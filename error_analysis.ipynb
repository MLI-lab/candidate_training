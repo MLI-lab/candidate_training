{
 "cells": [
  {
   "cell_type": "code",
   "execution_count": 12,
   "metadata": {},
   "outputs": [],
   "source": [
    "import pathlib\n",
    "import json\n",
    "import numpy as np"
   ]
  },
  {
   "cell_type": "code",
   "execution_count": 13,
   "metadata": {},
   "outputs": [],
   "source": [
    "# load labels of the test set\n",
    "candidate_file = 'candidate.npz'\n",
    "test_labels = np.load(candidate_file)['y_test']"
   ]
  },
  {
   "cell_type": "code",
   "execution_count": 14,
   "metadata": {},
   "outputs": [],
   "source": [
    "# load the indices of the correctly classified test images across different runs\n",
    "correct_dirs = pathlib.Path.cwd() / 'results' / 'resnet'\n",
    "cndt_corr_list, cifar_corr_list = list(), list()\n",
    "\n",
    "for json_file in correct_dirs.glob('*.json'):\n",
    "    with open(json_file) as fn:\n",
    "        json_dict = json.load(fn)\n",
    "    cifar_corr_list.append(json_dict) if 'cifar' in str(json_file) else cndt_corr_list.append(json_dict)"
   ]
  },
  {
   "cell_type": "code",
   "execution_count": 25,
   "metadata": {},
   "outputs": [],
   "source": [
    "image_per_cls = 200\n",
    "num_cls = 10\n",
    "\n",
    "cndt_corr_dict, cifar_corr_dict = dict(), dict()\n",
    "\n",
    "for i in range(num_cls):\n",
    "    cndt_corr_dict[i] = [len([idx for idx in crlist['correct'] if test_labels[int(idx)] == i]) \n",
    "                         for crlist in cndt_corr_list]\n",
    "    cifar_corr_dict[i] = [len([idx for idx in crlist['correct'] if test_labels[int(idx)] == i]) \n",
    "                         for crlist in cifar_corr_list]"
   ]
  },
  {
   "cell_type": "code",
   "execution_count": 26,
   "metadata": {},
   "outputs": [
    {
     "data": {
      "text/plain": [
       "{0: [170, 166, 172, 171, 172],\n",
       " 1: [184, 185, 183, 188, 186],\n",
       " 2: [185, 184, 180, 183, 184],\n",
       " 3: [172, 168, 170, 176, 175],\n",
       " 4: [190, 188, 191, 188, 190],\n",
       " 5: [172, 173, 177, 168, 174],\n",
       " 6: [192, 190, 191, 189, 194],\n",
       " 7: [194, 189, 193, 194, 193],\n",
       " 8: [187, 189, 187, 185, 186],\n",
       " 9: [188, 190, 188, 192, 188]}"
      ]
     },
     "execution_count": 26,
     "metadata": {},
     "output_type": "execute_result"
    }
   ],
   "source": [
    "cndt_corr_dict"
   ]
  },
  {
   "cell_type": "code",
   "execution_count": 27,
   "metadata": {},
   "outputs": [
    {
     "data": {
      "text/plain": [
       "{0: [163, 164, 164, 158, 167],\n",
       " 1: [163, 164, 160, 163, 165],\n",
       " 2: [171, 171, 176, 166, 168],\n",
       " 3: [155, 150, 158, 153, 160],\n",
       " 4: [180, 179, 177, 181, 181],\n",
       " 5: [155, 161, 156, 163, 161],\n",
       " 6: [180, 180, 183, 177, 177],\n",
       " 7: [178, 171, 173, 178, 180],\n",
       " 8: [173, 174, 181, 175, 176],\n",
       " 9: [188, 184, 187, 184, 187]}"
      ]
     },
     "execution_count": 27,
     "metadata": {},
     "output_type": "execute_result"
    }
   ],
   "source": [
    "cifar_corr_dict"
   ]
  },
  {
   "cell_type": "code",
   "execution_count": 65,
   "metadata": {},
   "outputs": [],
   "source": [
    "cifar10_classes = ['airplane', 'automobile', 'bird', 'cat', 'deer', 'dog', 'frog', 'horse', 'ship', 'truck']\n",
    "str_classes = ''\n",
    "for lbl in cifar10_classes:\n",
    "    str_classes += lbl + ' '\n",
    "str_classes = str_classes[:-1]\n",
    "\n",
    "csv_file = 'cifar_accuracy_per_class.csv'\n",
    "csv_iter = cifar_corr_dict.values() if csv_file[:5] == 'cifar' else cndt_corr_dict.values()\n",
    "\n",
    "mean_list = [np.mean(corr) for corr in csv_iter]\n",
    "# std_list = [np.std(corr, ddof=0) for corr in cifar_corr_dict.values()]\n",
    "mean_list = [np.mean(np.array(corr)/200) for corr in csv_iter]\n",
    "std_list = [np.std(np.array(corr)/200, ddof=0) for corr in csv_iter]\n",
    "\n",
    "np.savetxt(csv_file, \n",
    "           np.column_stack((mean_list, std_list)), \n",
    "           fmt='%.4f', \n",
    "           header='class mean std', \n",
    "           comments='',\n",
    "           # delimiter=',', \n",
    "           newline='\\n')\n",
    "\n",
    "with open(csv_file, 'r') as fn:\n",
    "    csv_lines = fn.readlines()\n",
    "    \n",
    "with open(csv_file, 'w') as fn:\n",
    "    for i, ln in enumerate(csv_lines):\n",
    "        if i == 0:\n",
    "            fn.write(ln)\n",
    "        elif i < 11:\n",
    "            fn.write(cifar10_classes[i-1] + ' ' + ln)\n",
    "        else:\n",
    "            print(ln)"
   ]
  },
  {
   "cell_type": "code",
   "execution_count": null,
   "metadata": {},
   "outputs": [],
   "source": []
  }
 ],
 "metadata": {
  "kernelspec": {
   "display_name": "Python 3",
   "language": "python",
   "name": "python3"
  },
  "language_info": {
   "codemirror_mode": {
    "name": "ipython",
    "version": 3
   },
   "file_extension": ".py",
   "mimetype": "text/x-python",
   "name": "python",
   "nbconvert_exporter": "python",
   "pygments_lexer": "ipython3",
   "version": "3.6.7"
  }
 },
 "nbformat": 4,
 "nbformat_minor": 2
}
