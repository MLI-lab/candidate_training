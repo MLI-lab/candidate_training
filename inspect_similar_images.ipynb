{
 "cells": [
  {
   "cell_type": "markdown",
   "metadata": {},
   "source": [
    "*Partially adopted and modified from* [github.com/modestyachts/CIFAR-10.1/](https://github.com/modestyachts/CIFAR-10.1)"
   ]
  },
  {
   "cell_type": "code",
   "execution_count": 1,
   "metadata": {},
   "outputs": [],
   "source": [
    "from ipywidgets import widgets\n",
    "import tqdm\n",
    "import numpy as np\n",
    "from matplotlib import image\n",
    "import os\n",
    "import json\n",
    "import operator\n",
    "from PIL import Image\n",
    "import io"
   ]
  },
  {
   "cell_type": "markdown",
   "metadata": {},
   "source": [
    "- **json_dict**: the dictionary loaded from the json file\n",
    "- **test_imgs**: list of all the keys loaded from the json file. \n",
    "- **cur_test_img**: the filename of the test image that is to be inspected. Use **test_ind** to keep track of the index of the test images.\n",
    "- **cur_matches**: the dictionary of topk items that has filename from tiny images as key and l2 distance as value\n",
    "- **cur_keys**: list of tuples of keys and values of cur_matches sorted by increasing l2 distance such that the images are shown in from closest to farthest."
   ]
  },
  {
   "cell_type": "code",
   "execution_count": 2,
   "metadata": {},
   "outputs": [],
   "source": [
    "def np_to_png(a, fmt='png', scale=1):\n",
    "    a = np.uint8(a)\n",
    "    f = io.BytesIO()\n",
    "    tmp_img = Image.fromarray(a)\n",
    "    tmp_img = tmp_img.resize((scale * 32, scale * 32), Image.NEAREST)\n",
    "    tmp_img.save(f, fmt)\n",
    "    return f.getvalue()"
   ]
  },
  {
   "cell_type": "code",
   "execution_count": 3,
   "metadata": {},
   "outputs": [],
   "source": [
    "json_dir = os.path.join(os.getcwd(), 'sim_data')\n",
    "dist_file = os.path.join(json_dir, 'dist_to_candidate.json')\n",
    "similars_file = os.path.join(json_dir, 'similar_imgs.json')\n",
    "idx_file = os.path.join(json_dir, 'fname_to_idx.json')\n",
    "idx_sim_file = os.path.join(json_dir, 'sim_to_idx.json')\n",
    "\n",
    "with open(dist_file) as f:\n",
    "    dist_dict = json.load(f)\n",
    "    \n",
    "with open(similars_file) as f:\n",
    "    sim_dict = json.load(f)\n",
    "    \n",
    "with open(idx_file) as f:\n",
    "    idx_dict = json.load(f)\n",
    "    \n",
    "with open(idx_sim_file) as f:\n",
    "    idx_sim_dict = json.load(f)\n",
    "        \n",
    "test_imgs = list(dist_dict.keys())"
   ]
  },
  {
   "cell_type": "code",
   "execution_count": 4,
   "metadata": {},
   "outputs": [],
   "source": [
    "data = np.load('candidate.npz')\n",
    "X_train, X_test = data['X_train'], data['X_test']\n",
    "\n",
    "data = np.load('sims.npz')\n",
    "X_sim = data['X_sim']"
   ]
  },
  {
   "cell_type": "markdown",
   "metadata": {},
   "source": [
    "#### Check similar images in the training set per test image\n",
    "- `test_ind`: Index of the test set for inspection."
   ]
  },
  {
   "cell_type": "code",
   "execution_count": 5,
   "metadata": {},
   "outputs": [],
   "source": [
    "test_ind = 54\n",
    "test_ind -= 1"
   ]
  },
  {
   "cell_type": "code",
   "execution_count": 6,
   "metadata": {},
   "outputs": [
    {
     "name": "stdout",
     "output_type": "stream",
     "text": [
      "54\n"
     ]
    }
   ],
   "source": [
    "test_ind += 1\n",
    "print(test_ind)\n",
    "cur_test_img = test_imgs[test_ind]\n",
    "cur_matches = sorted(dist_dict[cur_test_img].items(), key=operator.itemgetter(1))\n",
    "cur_similars = set()\n",
    "if cur_test_img in sim_dict:\n",
    "    cur_similars = set(sim_dict[cur_test_img])"
   ]
  },
  {
   "cell_type": "code",
   "execution_count": 7,
   "metadata": {
    "scrolled": false
   },
   "outputs": [
    {
     "name": "stderr",
     "output_type": "stream",
     "text": [
      "Setting up similar images: 100%|██████████| 1/1 [00:01<00:00,  1.45s/it]\n"
     ]
    },
    {
     "data": {
      "application/vnd.jupyter.widget-view+json": {
       "model_id": "1e5a846f58df44efa0397dafd65094d2",
       "version_major": 2,
       "version_minor": 0
      },
      "text/plain": [
       "Tab(children=(VBox(children=(HBox(children=(VBox(children=(Image(value=b'\\x89PNG\\r\\n\\x1a\\n\\x00\\x00\\x00\\rIHDR\\x…"
      ]
     },
     "metadata": {},
     "output_type": "display_data"
    }
   ],
   "source": [
    "num_images_to_show = len(cur_matches)+1            # len(cur_good_indices)\n",
    "img_offset = -1\n",
    "\n",
    "assert img_offset >= -1 # and img_offset < len(new_imgs)\n",
    "# num_images_to_show = min(num_images_to_show, len(new_imgs) - img_offset)\n",
    "num_cols = 8\n",
    "num_rows = 13\n",
    "num_per_tab = num_cols * num_rows\n",
    "num_tabs = 1             # int(math.ceil(num_images_to_show / num_per_tab))\n",
    "scale=3\n",
    "\n",
    "checkboxes = {}\n",
    "\n",
    "tab_contents = []\n",
    "for kk in tqdm.tqdm(range(num_tabs), desc='Setting up similar images'):\n",
    "    rows = []\n",
    "    cur_num_rows = num_rows\n",
    "    for ii in range(cur_num_rows):\n",
    "        cur_row = []\n",
    "        cur_num_cols = num_cols\n",
    "        if kk == num_tabs - 1 and ii == cur_num_rows - 1:\n",
    "            cur_num_cols = num_images_to_show - (num_tabs - 1) * num_per_tab - (cur_num_rows - 1) * num_cols\n",
    "        for jj in range(cur_num_cols):\n",
    "            cur_index = img_offset + kk * num_per_tab + ii * num_cols + jj\n",
    "            if cur_index < 0:\n",
    "                cur_img = widgets.Image(value=np_to_png(X_test[idx_dict['test'][cur_test_img]]), width=96, height=96)\n",
    "                cur_checkbox = widgets.Checkbox(value=False, description='original', indent=False, layout=widgets.Layout(width='100px', height='28')) #, description=str(ii * num_cols + jj))\n",
    "                cur_checkbox.width = '90px'\n",
    "                checkboxes[cur_test_img] = cur_checkbox\n",
    "            elif cur_matches[cur_index][0] in cur_similars:\n",
    "                cur_img = widgets.Image(value=np_to_png(X_sim[idx_sim_dict[cur_matches[cur_index][0]]]), width=96, height=96)\n",
    "                cur_checkbox = widgets.Checkbox(value=True, description=str(cur_matches[cur_index][1]), indent=False, layout=widgets.Layout(width='100px', height='28')) #, description=str(ii * num_cols + jj))\n",
    "                cur_checkbox.width = '90px'\n",
    "                checkboxes[cur_matches[cur_index][0]] = cur_checkbox\n",
    "            else:\n",
    "                cur_img = widgets.Image(value=np_to_png(X_train[idx_dict['train'][cur_matches[cur_index][0]]]), width=96, height=96)\n",
    "                cur_checkbox = widgets.Checkbox(value=False, description=str(cur_matches[cur_index][1]), indent=False, layout=widgets.Layout(width='100px', height='28')) #, description=str(ii * num_cols + jj))\n",
    "                cur_checkbox.width = '90px'\n",
    "                checkboxes[cur_matches[cur_index][0]] = cur_checkbox\n",
    "            cur_box = widgets.VBox([cur_img, cur_checkbox])\n",
    "            cur_box.layout.align_items = 'center'\n",
    "            cur_box.layout.padding = '6px'\n",
    "            cur_row.append(cur_box)\n",
    "        cur_hbox = widgets.HBox(cur_row)\n",
    "        rows.append(cur_hbox)\n",
    "    tab_contents.append(widgets.VBox(rows))\n",
    "\n",
    "tab = widgets.Tab()\n",
    "tab.children = tab_contents\n",
    "for i in range(len(tab.children)):\n",
    "    tab.set_title(i, str(i))\n",
    "display(tab)"
   ]
  }
 ],
 "metadata": {
  "kernelspec": {
   "display_name": "Python 3",
   "language": "python",
   "name": "python3"
  },
  "language_info": {
   "codemirror_mode": {
    "name": "ipython",
    "version": 3
   },
   "file_extension": ".py",
   "mimetype": "text/x-python",
   "name": "python",
   "nbconvert_exporter": "python",
   "pygments_lexer": "ipython3",
   "version": "3.6.7"
  }
 },
 "nbformat": 4,
 "nbformat_minor": 2
}
