{
 "cells": [
  {
   "cell_type": "markdown",
   "metadata": {},
   "source": [
    "## Inspection of training and test set\n",
    "\n",
    "In order make sure that the test set does not include images that are similar to images in the training set, we have removed all images that are similar to test images through manual inspection. This notebook allows to visualize which images are similar to a given image in the test set, and to see which images we have removed.\n",
    "\n",
    "The notebook is partially adopted from: [github.com/modestyachts/CIFAR-10.1/](https://github.com/modestyachts/CIFAR-10.1)"
   ]
  },
  {
   "cell_type": "code",
   "execution_count": 1,
   "metadata": {},
   "outputs": [],
   "source": [
    "from IPython.core.display import HTML\n",
    "from IPython.display import Javascript, display\n",
    "from ipywidgets import widgets\n",
    "import tqdm\n",
    "import numpy as np\n",
    "from matplotlib import image\n",
    "import os\n",
    "import json\n",
    "import operator\n",
    "from PIL import Image\n",
    "import io\n",
    "from IPython.core.debugger import set_trace"
   ]
  },
  {
   "cell_type": "code",
   "execution_count": 2,
   "metadata": {},
   "outputs": [],
   "source": [
    "# get the png value for Image widget\n",
    "def np_to_png(a, fmt='png', scale=1):\n",
    "    a = np.uint8(a)\n",
    "    f = io.BytesIO()\n",
    "    tmp_img = Image.fromarray(a)\n",
    "    tmp_img = tmp_img.resize((scale * 32, scale * 32), Image.NEAREST)\n",
    "    tmp_img.save(f, fmt)\n",
    "    return f.getvalue()"
   ]
  },
  {
   "cell_type": "markdown",
   "metadata": {},
   "source": [
    "The variables of the notebook are as follows:\n",
    "- **dist_dict**: Dictionary containing for each test image the closest images in l2 distance, along with the l2 distances. This was precomputed.\n",
    "- **test_imgs**: List of all the keys loaded from the json file. \n",
    "- **cur_test_img**: The filename of the test image that is to be inspected. Use **test_ind** to keep track of the index of the test images.\n",
    "- **cur_matches**: The dictionary of topk items that has filename from tiny images as key and l2 distance as value\n",
    "- **cur_keys**: List of tuples of keys and values of cur_matches sorted by increasing l2 distance such that the images are shown in from closest to farthest."
   ]
  },
  {
   "cell_type": "code",
   "execution_count": 3,
   "metadata": {},
   "outputs": [],
   "source": [
    "def load_sim_files(json_dir, sim_metric):\n",
    "    assert sim_metric in ['l2_distance', 'structural_similarity']\n",
    "    dist_file = os.path.join(json_dir, 'dist_to_candidate.json')  # l2 distance of top-100 training images\n",
    "    dist_dir = os.path.join(json_dir, 'ssim_dist/')\n",
    "    similars_file = os.path.join(json_dir, 'similar_imgs.json')   # manually selected similar images\n",
    "    idx_file = os.path.join(json_dir, 'fname_to_idx.json')        # filename to index dict\n",
    "    idx_sim_file = os.path.join(json_dir, 'sim_to_idx.json')      # filename to index for eliminated images\n",
    "    \n",
    "    with open(similars_file) as f:\n",
    "        sim_dict = json.load(f)\n",
    "        \n",
    "    with open(idx_file) as f:\n",
    "        idx_dict = json.load(f)\n",
    "        \n",
    "    with open(idx_sim_file) as f:\n",
    "        idx_sim_dict = json.load(f)\n",
    "    \n",
    "    if sim_metric == 'l2_distance':\n",
    "        with open(dist_file) as f:\n",
    "            dist_dict = json.load(f)\n",
    "        return dist_dict, sim_dict, idx_dict, idx_sim_dict\n",
    "    \n",
    "    else:\n",
    "        idx_dict_reverse = {'train':{str(v):k for k,v in idx_dict['train'].items()}, \n",
    "                            'test':{str(v):k for k,v in idx_dict['test'].items()}}\n",
    "        idx_sim_dict_reverse = {str(v):k for k,v in idx_sim_dict.items()}\n",
    "    \n",
    "        # load ssim values for training images\n",
    "        dist_dict = dict()\n",
    "        dist_list = [os.path.join(dist_dir, fname) for fname in os.listdir(dist_dir) if fname.endswith('.json')]\n",
    "        for dist_file in dist_list:\n",
    "            with open(dist_file) as f:\n",
    "                dist_temp = json.load(f)\n",
    "            for cur_img, cur_dict in dist_temp.items():\n",
    "                dist_dict[idx_dict_reverse['test'][cur_img]] = {idx_dict_reverse['train'][k]:v for k,v in cur_dict.items()}\n",
    "        # load ssim values for excluded images\n",
    "        dist_list = [os.path.join(dist_dir, 'excluded/' + fname) for fname in os.listdir(os.path.join(dist_dir, 'excluded')) if fname.endswith('.json')]\n",
    "        for dist_file in dist_list:\n",
    "            with open(dist_file) as f:\n",
    "                dist_temp = json.load(f)\n",
    "#             set_trace()\n",
    "            for cur_img, cur_dict in dist_temp.items():\n",
    "                dist_dict[idx_dict_reverse['test'][cur_img]].update({idx_sim_dict_reverse[k]:v for k,v in cur_dict.items()})\n",
    "        return dist_dict, sim_dict, idx_dict, idx_sim_dict\n",
    "    \n",
    "def load_correct_classified(res_dir, test_dict):\n",
    "    cndt_file = os.path.join(res_dir, 'train_logs_corr.json')\n",
    "    cifar_file = os.path.join(res_dir, 'train_logs_cifar_corr.json')\n",
    "    \n",
    "    reverse_dict = {str(v):k for k,v in test_dict.items()}\n",
    "    \n",
    "    with open(cndt_file) as f:\n",
    "        cndt_dict = json.load(f)\n",
    "        \n",
    "    with open(cifar_file) as f:\n",
    "        cifar_dict = json.load(f)\n",
    "        \n",
    "    return sorted([reverse_dict[str(idx)] for idx in cndt_dict['correct'] if idx not in cifar_dict['correct']])\n",
    "\n",
    "def get_next_image(ev):\n",
    "    display(Javascript('IPython.notebook.execute_cell_range(IPython.notebook.get_selected_index()-1, IPython.notebook.ncells())'))\n"
   ]
  },
  {
   "cell_type": "markdown",
   "metadata": {},
   "source": [
    "# load files that contain l2 distance and manually eliminated image lists\n",
    "json_dir = os.path.join(os.getcwd(), 'sim_data')  # directory containing the json files\n",
    "dist_file = os.path.join(json_dir, 'dist_to_candidate.json')  # l2 distance of top-100 training images\n",
    "similars_file = os.path.join(json_dir, 'similar_imgs.json')   # manually selected similar images\n",
    "idx_file = os.path.join(json_dir, 'fname_to_idx.json')        # filename to index dict\n",
    "idx_sim_file = os.path.join(json_dir, 'sim_to_idx.json')      # filename to index for eliminated images\n",
    "\n",
    "with open(dist_file) as f:\n",
    "    dist_dict = json.load(f)\n",
    "    \n",
    "with open(similars_file) as f:\n",
    "    sim_dict = json.load(f)\n",
    "    \n",
    "with open(idx_file) as f:\n",
    "    idx_dict = json.load(f)\n",
    "    \n",
    "with open(idx_sim_file) as f:\n",
    "    idx_sim_dict = json.load(f)\n",
    "        \n",
    "test_imgs = list(dist_dict.keys())"
   ]
  },
  {
   "cell_type": "code",
   "execution_count": 4,
   "metadata": {},
   "outputs": [],
   "source": [
    "# load training set that excludes images similar to test images\n",
    "data = np.load('candidate.npz')\n",
    "X_train, X_test = data['X_train'], data['X_test']\n",
    "\n",
    "# load the images that were eliminated from the candidate set\n",
    "data = np.load('sims.npz')\n",
    "X_sim = data['X_sim']"
   ]
  },
  {
   "cell_type": "markdown",
   "metadata": {},
   "source": [
    "#### Check similar images in the training set per test image\n",
    "- `test_ind`: Index of the test set for inspection."
   ]
  },
  {
   "cell_type": "code",
   "execution_count": 5,
   "metadata": {},
   "outputs": [
    {
     "data": {
      "application/vnd.jupyter.widget-view+json": {
       "model_id": "61b5c7873dcf4e719f2fae02b4ed506b",
       "version_major": 2,
       "version_minor": 0
      },
      "text/plain": [
       "ToggleButtons(description='Metric:', options=('l2_distance', 'structural_similarity'), tooltips=('l2 distance …"
      ]
     },
     "metadata": {},
     "output_type": "display_data"
    },
    {
     "data": {
      "application/vnd.jupyter.widget-view+json": {
       "model_id": "3eb971a69c3e4809bb2cff8ac12e0ff3",
       "version_major": 2,
       "version_minor": 0
      },
      "text/plain": [
       "ToggleButtons(description='Images:', options=('all', 'diff'), tooltips=('all test images and similars', 'non-o…"
      ]
     },
     "metadata": {},
     "output_type": "display_data"
    }
   ],
   "source": [
    "'''Select metric for similarity from the toggle button\n",
    "from l2_distance or structural_similarity(coming soon)\n",
    "Click 'Show Similars' to check similar images.\n",
    "'''\n",
    "sim_metric = widgets.ToggleButtons(\n",
    "    options=['l2_distance', 'structural_similarity'], # coming soon: 'structural_similarity' \n",
    "    description='Metric:',\n",
    "    disabled=False,\n",
    "    button_style='',\n",
    "    tooltips=['l2 distance between images', 'ssim from scikit image'], # 'ssim from scikit image'\n",
    ")\n",
    "display(sim_metric)\n",
    "\n",
    "idx_select = widgets.ToggleButtons(\n",
    "    options=['all', 'diff'], # coming soon: 'structural_similarity' \n",
    "    description='Images:',\n",
    "    disabled=False,\n",
    "    button_style='',\n",
    "    tooltips=['all test images and similars', \n",
    "              'non-overlaps between candidate and cifar training sets'], # 'ssim from scikit image'\n",
    ")\n",
    "display(idx_select)"
   ]
  },
  {
   "cell_type": "code",
   "execution_count": 11,
   "metadata": {},
   "outputs": [
    {
     "data": {
      "text/html": [
       "<script> </script> <form action=\"javascript:IPython.notebook.execute_cells_below()\"><input type=\"submit\" id=\"toggleButton\" value=\"Show Similars\"></form>"
      ],
      "text/plain": [
       "<IPython.core.display.HTML object>"
      ]
     },
     "execution_count": 11,
     "metadata": {},
     "output_type": "execute_result"
    }
   ],
   "source": [
    "HTML('''<script> </script> <form action=\"javascript:IPython.notebook.execute_cells_below()\"><input type=\"submit\" id=\"toggleButton\" value=\"Show Similars\"></form>''')"
   ]
  },
  {
   "cell_type": "code",
   "execution_count": 12,
   "metadata": {},
   "outputs": [],
   "source": [
    "# load files that contain l2 distance and manually eliminated image lists\n",
    "json_dir = os.path.join(os.getcwd(), 'sim_data')  # directory of json files\n",
    "assert sim_metric.value in ['l2_distance', 'structural_similarity']\n",
    "assert idx_select.value in ['all', 'diff']\n",
    "\n",
    "if sim_metric.value == 'l2_distance':\n",
    "    dist_dict, sim_dict, idx_dict, idx_sim_dict = load_sim_files(json_dir, sim_metric.value)\n",
    "else:\n",
    "    dist_dict, sim_dict, idx_dict, idx_sim_dict = load_sim_files(json_dir, sim_metric.value)\n",
    "    \n",
    "if idx_select == 'all':\n",
    "    test_imgs = sorted(list(dist_dict.keys()))\n",
    "else:\n",
    "    res_dir = os.path.join(os.getcwd(), 'results/resnet/')\n",
    "    test_imgs = load_correct_classified(res_dir, idx_dict['test'])"
   ]
  },
  {
   "cell_type": "code",
   "execution_count": 13,
   "metadata": {},
   "outputs": [],
   "source": [
    "test_ind = 129   # Test image index for inspection\n",
    "test_ind -= 1   # offset for automatic index increase"
   ]
  },
  {
   "cell_type": "code",
   "execution_count": 14,
   "metadata": {},
   "outputs": [
    {
     "name": "stdout",
     "output_type": "stream",
     "text": [
      "Inspecting test image #129\n"
     ]
    }
   ],
   "source": [
    "# check next test image\n",
    "test_ind += 1\n",
    "print('Inspecting test image #' + str(test_ind))\n",
    "cur_test_img = test_imgs[test_ind]\n",
    "cur_matches = sorted(dist_dict[cur_test_img].items(), key=operator.itemgetter(1))[:100]\n",
    "cur_similars = set()\n",
    "if cur_test_img in sim_dict:\n",
    "    cur_similars = set(sim_dict[cur_test_img])"
   ]
  },
  {
   "cell_type": "code",
   "execution_count": 15,
   "metadata": {
    "scrolled": false
   },
   "outputs": [
    {
     "name": "stderr",
     "output_type": "stream",
     "text": [
      "#129 - Setting up similar images by structural_similarity: 100%|██████████| 1/1 [00:01<00:00,  1.42s/it]\n"
     ]
    },
    {
     "data": {
      "application/vnd.jupyter.widget-view+json": {
       "model_id": "23d47b08fa89479f8a722c03a46b9cac",
       "version_major": 2,
       "version_minor": 0
      },
      "text/plain": [
       "Button(description='Next image', style=ButtonStyle())"
      ]
     },
     "metadata": {},
     "output_type": "display_data"
    },
    {
     "data": {
      "application/vnd.jupyter.widget-view+json": {
       "model_id": "b0a08d0ba2ac46ccb440bd0183a60a9e",
       "version_major": 2,
       "version_minor": 0
      },
      "text/plain": [
       "Tab(children=(VBox(children=(HBox(children=(VBox(children=(Image(value=b'\\x89PNG\\r\\n\\x1a\\n\\x00\\x00\\x00\\rIHDR\\x…"
      ]
     },
     "metadata": {},
     "output_type": "display_data"
    }
   ],
   "source": [
    "num_images_to_show = len(cur_matches)+1            \n",
    "img_offset = -1\n",
    "\n",
    "assert img_offset >= -1 \n",
    "\n",
    "num_cols = 8\n",
    "num_rows = 13\n",
    "num_per_tab = num_cols * num_rows\n",
    "num_tabs = 1             \n",
    "scale=3\n",
    "\n",
    "checkboxes = {}\n",
    "\n",
    "tab_contents = []\n",
    "for kk in tqdm.tqdm(range(num_tabs), desc='#{} - Setting up similar images by {}'.format(str(test_ind), sim_metric.value)):\n",
    "    rows = []\n",
    "    cur_num_rows = num_rows\n",
    "    for ii in range(cur_num_rows):\n",
    "        cur_row = []\n",
    "        cur_num_cols = num_cols\n",
    "        if kk == num_tabs - 1 and ii == cur_num_rows - 1:\n",
    "            cur_num_cols = num_images_to_show - (num_tabs - 1) * num_per_tab - (cur_num_rows - 1) * num_cols\n",
    "        for jj in range(cur_num_cols):\n",
    "            cur_index = img_offset + kk * num_per_tab + ii * num_cols + jj\n",
    "            if cur_index < 0:\n",
    "                cur_img = widgets.Image(value=np_to_png(X_test[idx_dict['test'][cur_test_img]]), width=96, height=96)\n",
    "                cur_checkbox = widgets.Checkbox(value=False, description='original', disabled=True, indent=False, layout=widgets.Layout(width='100px', height='28'))\n",
    "                cur_checkbox.width = '90px'\n",
    "                checkboxes[cur_test_img] = cur_checkbox\n",
    "            elif cur_matches[cur_index][0] in cur_similars or cur_matches[cur_index][0] in idx_sim_dict:\n",
    "                cur_img = widgets.Image(value=np_to_png(X_sim[idx_sim_dict[cur_matches[cur_index][0]]]), width=96, height=96)\n",
    "                # cur_checkbox = widgets.Checkbox(value=True, description=str(np.around(cur_matches[cur_index][1],2)) + 'NOT included', indent=False, layout=widgets.Layout(width='100px', height='28')) \n",
    "                cur_checkbox = widgets.HTML(value = str(np.around(cur_matches[cur_index][1],2)) + \" - <b><font color='red'>Excluded</b>\", layout=widgets.Layout(width='100px', height='28'))\n",
    "                cur_checkbox.width = '90px'\n",
    "                checkboxes[cur_matches[cur_index][0]] = cur_checkbox\n",
    "            else:\n",
    "                cur_img = widgets.Image(value=np_to_png(X_train[idx_dict['train'][cur_matches[cur_index][0]]]), width=96, height=96)\n",
    "                cur_checkbox = widgets.Checkbox(value=False, description=str(cur_matches[cur_index][1]), indent=False, layout=widgets.Layout(width='100px', height='28'))\n",
    "                cur_checkbox.width = '90px'\n",
    "                checkboxes[cur_matches[cur_index][0]] = cur_checkbox\n",
    "            cur_box = widgets.VBox([cur_img, cur_checkbox])\n",
    "            cur_box.layout.align_items = 'center'\n",
    "            cur_box.layout.padding = '6px'\n",
    "            cur_row.append(cur_box)\n",
    "        cur_hbox = widgets.HBox(cur_row)\n",
    "        rows.append(cur_hbox)\n",
    "    tab_contents.append(widgets.VBox(rows))\n",
    "\n",
    "tab = widgets.Tab()\n",
    "tab.children = tab_contents\n",
    "for i in range(len(tab.children)):\n",
    "    tab.set_title(i, str(i))\n",
    "\n",
    "next_img_button = widgets.Button(description=\"Next image\")\n",
    "next_img_button.on_click(get_next_image)\n",
    "display(next_img_button)\n",
    "\n",
    "display(tab)"
   ]
  },
  {
   "cell_type": "markdown",
   "metadata": {},
   "source": [
    "#### Some interesting cases \n",
    "- 48: Cute ostrich\n",
    "- 123: Similar? Not similar?\n",
    "- 43, 64: *False similars found by both*\n",
    "- 72: Example of falsely labeled images for cat class.\n",
    "- 5, 98, 105, 109: *False similar found by ssim but not l2.*\n",
    "- *7x3,13x1, 118x1*: *Additional similars found by ssim but not l2*\n",
    "- **9**: *Incredibly interesting case. Similar is already excluded because of another image.*"
   ]
  },
  {
   "cell_type": "code",
   "execution_count": null,
   "metadata": {},
   "outputs": [],
   "source": []
  }
 ],
 "metadata": {
  "kernelspec": {
   "display_name": "Python 3",
   "language": "python",
   "name": "python3"
  },
  "language_info": {
   "codemirror_mode": {
    "name": "ipython",
    "version": 3
   },
   "file_extension": ".py",
   "mimetype": "text/x-python",
   "name": "python",
   "nbconvert_exporter": "python",
   "pygments_lexer": "ipython3",
   "version": "3.6.7"
  }
 },
 "nbformat": 4,
 "nbformat_minor": 2
}
